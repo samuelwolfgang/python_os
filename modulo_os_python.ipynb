{
 "cells": [
  {
   "cell_type": "markdown",
   "id": "ae61a314-89eb-42ba-93ca-5b47644c3d47",
   "metadata": {},
   "source": [
    "# Biblioteca OS - Python"
   ]
  },
  {
   "cell_type": "markdown",
   "id": "91e96850-f56c-48e4-b421-0969e1050a4a",
   "metadata": {},
   "source": [
    "os documatation: https://python.readthedocs.io/en/stable/library/os.html"
   ]
  },
  {
   "cell_type": "markdown",
   "id": "f7d385d5-7d54-4e27-9459-acc42493f827",
   "metadata": {},
   "source": [
    "## Importação"
   ]
  },
  {
   "cell_type": "code",
   "execution_count": null,
   "id": "261abf33-f5e6-4f93-b46c-b1815cc275bb",
   "metadata": {},
   "outputs": [],
   "source": [
    "import os"
   ]
  },
  {
   "cell_type": "markdown",
   "id": "877e84e8-c0d2-4c2a-8b51-29a732452108",
   "metadata": {},
   "source": [
    "## Principáis métodos"
   ]
  },
  {
   "cell_type": "markdown",
   "id": "c79512c5-37a3-4af2-9cae-d103111bf9c9",
   "metadata": {},
   "source": [
    "### Dados do sistema"
   ]
  },
  {
   "cell_type": "code",
   "execution_count": null,
   "id": "fa95d4ca-dde8-462d-b697-6aa47c5d3ae6",
   "metadata": {},
   "outputs": [],
   "source": [
    "system = os.environ\n",
    "print(system)"
   ]
  },
  {
   "cell_type": "markdown",
   "id": "a1d96f14-6ca5-4296-b046-e1ce4aed3984",
   "metadata": {},
   "source": [
    "#### Pegando um dado do dicionário cuspido"
   ]
  },
  {
   "cell_type": "code",
   "execution_count": null,
   "id": "71214f9c-4db2-4bbe-82f9-040fe7c56f3c",
   "metadata": {},
   "outputs": [],
   "source": [
    "print(system['USER'])"
   ]
  },
  {
   "cell_type": "markdown",
   "id": "e0db9763-aec6-4481-b156-7e8875b2a858",
   "metadata": {},
   "source": [
    "#### os.getlogin - Retorna o nome do usuário logado que está controlando o terminal no momento"
   ]
  },
  {
   "cell_type": "code",
   "execution_count": null,
   "id": "24251ce3-24c2-4bd6-a7f5-02945ffb5ad1",
   "metadata": {},
   "outputs": [],
   "source": [
    "os.getlogin()"
   ]
  },
  {
   "cell_type": "markdown",
   "id": "0c015737-a20d-4f30-aa64-3532a42d971c",
   "metadata": {},
   "source": [
    "#### os.getuid() - Retorna o ID do usuário logado atualmente"
   ]
  },
  {
   "cell_type": "code",
   "execution_count": null,
   "id": "6d0c45bb-9227-4a4a-ae16-13e384249c20",
   "metadata": {},
   "outputs": [],
   "source": [
    "os.getuid()"
   ]
  },
  {
   "cell_type": "markdown",
   "id": "2eb28117-997f-4987-8b80-ad8e89794da1",
   "metadata": {},
   "source": [
    "#### os.ctermid() - Retorna qual terminal você se encontra"
   ]
  },
  {
   "cell_type": "code",
   "execution_count": null,
   "id": "a4783088-9a54-44fc-b97d-c09d8f32e71b",
   "metadata": {},
   "outputs": [],
   "source": [
    "os.ctermid()"
   ]
  },
  {
   "cell_type": "markdown",
   "id": "954c599d-90b3-4acf-81a4-84be8088a0f2",
   "metadata": {},
   "source": [
    "#### os.fsendcode() - Retorna o encode do arquivo"
   ]
  },
  {
   "cell_type": "code",
   "execution_count": null,
   "id": "d618ce65-42d0-41ac-bf55-268c7bba1130",
   "metadata": {},
   "outputs": [],
   "source": [
    "os.fsencode('test.txt')"
   ]
  },
  {
   "cell_type": "markdown",
   "id": "b87f45a5-28a7-42b4-87ea-c7fb63d9b15f",
   "metadata": {},
   "source": [
    "#### os.fspath() - Retorna a representação do caminho do sistema de arquivos"
   ]
  },
  {
   "cell_type": "code",
   "execution_count": null,
   "id": "ac61cd03-8d67-435b-a2c2-6e461f6576b6",
   "metadata": {},
   "outputs": [],
   "source": [
    "os.fspath(r'')"
   ]
  },
  {
   "cell_type": "markdown",
   "id": "67d6fb89-d2ff-4c77-971d-0a1e6a0da5de",
   "metadata": {},
   "source": [
    "#### os.getenv() - Retorna o valor de uma variável de ambiente"
   ]
  },
  {
   "cell_type": "code",
   "execution_count": null,
   "id": "a2c1a5e2-3c0d-4d9d-8d7e-15313493470e",
   "metadata": {},
   "outputs": [],
   "source": [
    "os.getenv('PATH')"
   ]
  },
  {
   "cell_type": "markdown",
   "id": "16b37c34-118f-4941-8706-5117c6bc880f",
   "metadata": {},
   "source": [
    "#### os.get_exec_path() - Retorna especificadamente a lista de diretórios do PATH"
   ]
  },
  {
   "cell_type": "code",
   "execution_count": null,
   "id": "962fd6f1-0851-4f83-b28a-8efea764c859",
   "metadata": {},
   "outputs": [],
   "source": [
    "os.get_exec_path()"
   ]
  },
  {
   "cell_type": "markdown",
   "id": "bc6e4b83-a7c1-47f0-9949-a5a2af908aee",
   "metadata": {},
   "source": [
    "#### os.putenv() - Adiciona uma variável de ambiente"
   ]
  },
  {
   "cell_type": "code",
   "execution_count": null,
   "id": "c43b68cd-481d-4c1e-bb0d-83312b968de0",
   "metadata": {},
   "outputs": [],
   "source": [
    "#           key       value \n",
    "os.putenv('TEST', 'test')"
   ]
  },
  {
   "cell_type": "markdown",
   "id": "4f719c70-4c7d-450a-8f50-662fac3b1dba",
   "metadata": {},
   "source": [
    "#### os.unsetenv() - Remove uma variavel de ambiente"
   ]
  },
  {
   "cell_type": "code",
   "execution_count": null,
   "id": "2b114e20-3d2a-4f32-becb-eba9300aa6c5",
   "metadata": {},
   "outputs": [],
   "source": [
    "os.unsetenv('TEST')"
   ]
  },
  {
   "cell_type": "markdown",
   "id": "fc2e46ea-6d96-4748-8e3f-eaad611f3f30",
   "metadata": {},
   "source": [
    "#### os.uname() - Retorna as informações do sistema operacional"
   ]
  },
  {
   "cell_type": "code",
   "execution_count": null,
   "id": "82032d26-af39-42e0-b5c7-20c9535eb9b6",
   "metadata": {},
   "outputs": [],
   "source": [
    "os.uname()"
   ]
  },
  {
   "cell_type": "markdown",
   "id": "44e39d32-a3aa-43e6-acd2-5fa9f049fc17",
   "metadata": {},
   "source": [
    "#### os.cpu_count() - Retorna o número do CPUs do sistema"
   ]
  },
  {
   "cell_type": "code",
   "execution_count": null,
   "id": "5594f0f7-a5cd-4799-aa80-5d088a705300",
   "metadata": {},
   "outputs": [],
   "source": [
    "os.cpu_count()"
   ]
  },
  {
   "cell_type": "markdown",
   "id": "bb1c07ca-cce4-42e0-b7a3-6d12aebe9721",
   "metadata": {},
   "source": [
    "### Trabalhando com pastas"
   ]
  },
  {
   "cell_type": "markdown",
   "id": "343f7696-4bcb-442e-a183-f707627900a7",
   "metadata": {},
   "source": [
    "#### os.getcwd() - Para saber em que diretório atual estamos (pwd)"
   ]
  },
  {
   "cell_type": "code",
   "execution_count": null,
   "id": "523fbb60-bdfb-406c-bbd7-bfcf25731fed",
   "metadata": {},
   "outputs": [],
   "source": [
    "print(os.getcwd())"
   ]
  },
  {
   "cell_type": "markdown",
   "id": "bd32fe0b-86a8-4730-9564-4335527ad0cc",
   "metadata": {},
   "source": [
    "#### os.chdir() - Para trocar de diretório (cd)"
   ]
  },
  {
   "cell_type": "code",
   "execution_count": null,
   "id": "0fa477e8-5d14-4f75-86c1-92a2fa8160b8",
   "metadata": {},
   "outputs": [],
   "source": [
    "new_dir = r''\n",
    "os.chdir(new_dir)"
   ]
  },
  {
   "cell_type": "markdown",
   "id": "5a3919a1-3ba0-422f-8cd7-5b7387d086c5",
   "metadata": {},
   "source": [
    "#### os.mkdir() - Para criar um diretório (mkdir)"
   ]
  },
  {
   "cell_type": "code",
   "execution_count": null,
   "id": "be77f7df-ea91-4b10-b327-f942c6ec2c3d",
   "metadata": {},
   "outputs": [],
   "source": [
    "os.mkdir(\"teste.txt\")"
   ]
  },
  {
   "cell_type": "markdown",
   "id": "5f266845-7325-413f-bcbf-872a217983c6",
   "metadata": {},
   "source": [
    "#### os.listdir() - Para listar os arquivos do diretório (ls)"
   ]
  },
  {
   "cell_type": "code",
   "execution_count": null,
   "id": "65f93c42-60ae-4396-ad41-1f369fcc9fb7",
   "metadata": {},
   "outputs": [],
   "source": [
    "print(os.listdir())"
   ]
  },
  {
   "cell_type": "markdown",
   "id": "bf86385e-257d-4931-85af-15a1664147dd",
   "metadata": {},
   "source": [
    "#### os.makedirs() - Para criar diretórios de forma recursiva (mkdir -p)"
   ]
  },
  {
   "cell_type": "code",
   "execution_count": null,
   "id": "580e2ec6-28fe-4a9d-b406-1c541c557c07",
   "metadata": {},
   "outputs": [],
   "source": [
    "recursive_dirs = r''\n",
    "os.makedirs(recursive_dirs)\n",
    "print(os.listdir())"
   ]
  },
  {
   "cell_type": "markdown",
   "id": "64565b53-bf19-4f11-b240-15baa5aeecc4",
   "metadata": {},
   "source": [
    "#### os.rmdir() - Para apagar direórios vazios (rmdir)"
   ]
  },
  {
   "cell_type": "code",
   "execution_count": null,
   "id": "67af49c5-99af-4e69-921e-ab0261d0441a",
   "metadata": {},
   "outputs": [],
   "source": [
    "os.rmdir(r'')"
   ]
  },
  {
   "cell_type": "markdown",
   "id": "c2f8f205-244e-4f64-9b3c-dd3bde34d151",
   "metadata": {},
   "source": [
    "### Trabalhando com arquivos"
   ]
  },
  {
   "cell_type": "markdown",
   "id": "6693996e-61f8-4b8d-b0b8-8761a2066e8a",
   "metadata": {},
   "source": [
    "#### os.startfile() - Para iniciar/abrir um determinado arquivo"
   ]
  },
  {
   "cell_type": "code",
   "execution_count": null,
   "id": "4eb7d4f8-be74-4c74-b0c2-a72be7b54d80",
   "metadata": {},
   "outputs": [],
   "source": [
    "os.startfile(r'')"
   ]
  },
  {
   "cell_type": "markdown",
   "id": "c20b37a3-1939-4874-be4e-ed330a9592f1",
   "metadata": {},
   "source": [
    "#### os.rename() - Para alterar o nome do arquivo"
   ]
  },
  {
   "cell_type": "code",
   "execution_count": null,
   "id": "40d3d906-c1fc-4455-b5ea-3ff7bdd0ac6d",
   "metadata": {},
   "outputs": [],
   "source": [
    "os.rename('test.txt', 'test2.txt')"
   ]
  },
  {
   "cell_type": "markdown",
   "id": "db647b58-b196-4f48-b413-70e0ba31ef1a",
   "metadata": {},
   "source": [
    "#### os.remove() - Para remover os arquivos"
   ]
  },
  {
   "cell_type": "code",
   "execution_count": null,
   "id": "39cbfcef-a60c-437c-8ca2-af9b48ec5e6c",
   "metadata": {},
   "outputs": [],
   "source": [
    "os.remove('test2.txt')"
   ]
  },
  {
   "cell_type": "markdown",
   "id": "f2e926fe-067c-44dc-be7e-4c342ef1566f",
   "metadata": {},
   "source": [
    "#### os.walk() - Faz uma listagem \"mais completa\" com base os parâmetros (find)"
   ]
  },
  {
   "cell_type": "code",
   "execution_count": null,
   "id": "f17cc03c-483c-4a4a-946a-26ad314c6da9",
   "metadata": {
    "scrolled": true
   },
   "outputs": [],
   "source": [
    "for roots, dirs, files in os.walk(os.getcwd()):\n",
    "    print(roots) # Retorna o caminho absoluto\n",
    "    print(dirs)  # Retorna os diretóprios presente no diretório\n",
    "    print(files) # Retorna os arquivoos presente no diretório"
   ]
  },
  {
   "cell_type": "markdown",
   "id": "ae441c3c-3fe3-40ae-939e-70b7059415be",
   "metadata": {},
   "source": [
    "#### os.stat() - Obtenha o status de um arquivo ou descritor de arquivo"
   ]
  },
  {
   "cell_type": "code",
   "execution_count": null,
   "id": "9d63d817-b918-46ed-bfad-e963a8bb47a3",
   "metadata": {},
   "outputs": [],
   "source": [
    "file_dir = r''\n",
    "os.stat(file_dir)"
   ]
  },
  {
   "cell_type": "markdown",
   "id": "c394ab12-14f5-4fbb-8f5a-8ec5d8a46099",
   "metadata": {},
   "source": [
    "Primeiro método"
   ]
  },
  {
   "cell_type": "code",
   "execution_count": null,
   "id": "f56b5f18-c25b-4ea1-a30c-157a5e10963b",
   "metadata": {},
   "outputs": [],
   "source": [
    "file_data = os.stat('test.txt')\n",
    "file_data.st_mtime"
   ]
  },
  {
   "cell_type": "markdown",
   "id": "1ed791f3-f6d1-474a-a3ff-1386d0670a03",
   "metadata": {},
   "source": [
    "Segundo método"
   ]
  },
  {
   "cell_type": "code",
   "execution_count": null,
   "id": "ea5b10ed-75f8-4ad9-9496-bb7a1da5d05d",
   "metadata": {},
   "outputs": [],
   "source": [
    "print(os.stat('test.txt').st_mtime)"
   ]
  },
  {
   "cell_type": "markdown",
   "id": "0c70b6be-25ce-48e8-9ca4-f5acdd45a064",
   "metadata": {},
   "source": [
    "### Utilizando o os.stat com a biblioteca time para ter o retorno da última data de modificação do arquivo"
   ]
  },
  {
   "cell_type": "markdown",
   "id": "81cc3e58-857a-4222-8478-50c2f7de5ae8",
   "metadata": {},
   "source": [
    "Primeiro método"
   ]
  },
  {
   "cell_type": "code",
   "execution_count": null,
   "id": "f42b4839-c892-4279-b98a-da8342df6193",
   "metadata": {},
   "outputs": [],
   "source": [
    "from datetime import datetime, timezone\n",
    "\n",
    "file_data = os.stat('test.txt')\n",
    "modified = datetime.fromtimestamp(file_data.st_mtime, tz=timezone.utc)\n",
    "print('modified', modified)"
   ]
  },
  {
   "cell_type": "markdown",
   "id": "75aa7f7a-83ff-4c6e-b2cb-8dc345756cac",
   "metadata": {},
   "source": [
    "Segundo método"
   ]
  },
  {
   "cell_type": "code",
   "execution_count": null,
   "id": "77f76e98-4195-4662-ac61-7b0e8fd1bb0c",
   "metadata": {},
   "outputs": [],
   "source": [
    "import time\n",
    "\n",
    "file_data = os.stat('test.txt')\n",
    "modificationTime = time.ctime (file_data.st_mtime)\n",
    " \n",
    "print(\"Last Modified Time : \", modificationTime )"
   ]
  },
  {
   "cell_type": "markdown",
   "id": "74c92002-5eaf-4a67-94bc-33b401e71f3e",
   "metadata": {},
   "source": [
    "####  class os.stat_result\n",
    "Objecto cujos atributos correspondem aproximadamente aos membros da estrutura de estatísticas. É usado para o resultado de os.stat(), os.fstat() and os.lstat()."
   ]
  },
  {
   "cell_type": "markdown",
   "id": "388d8b83-5704-467e-bb4c-a2f0c3cffd8e",
   "metadata": {},
   "source": [
    "<pre>\n",
    " class os.stat_result\n",
    "    Attributes:\n",
    "    st_mode\n",
    "        File mode: file type and file mode bits (permissions).\n",
    "    st_ino\n",
    "        Inode number.\n",
    "    st_dev\n",
    "        Identifier of the device on which this file resides.\n",
    "    st_nlink\n",
    "        Number of hard links.\n",
    "    st_uid\n",
    "        User identifier of the file owner.\n",
    "    st_gid\n",
    "        Group identifier of the file owner.\n",
    "    st_size\n",
    "        Size of the file in bytes, if it is a regular file or a symbolic link. The size of a symbolic link is the length of the pathname it contains, without a terminating null byte.\n",
    "        \n",
    "    Timestamps:\n",
    "    st_atime\n",
    "        Time of most recent access expressed in seconds.\n",
    "    st_mtime\n",
    "        Time of most recent content modification expressed in seconds.\n",
    "    st_ctime\n",
    "        Platform dependent:\n",
    "            the time of most recent metadata change on Unix,\n",
    "            the time of creation on Windows, expressed in seconds.\n",
    "    st_atime_ns\n",
    "        Time of most recent access expressed in nanoseconds as an integer.\n",
    "    st_mtime_ns\n",
    "        Time of most recent content modification expressed in nanoseconds as an integer.\n",
    "    st_ctime_ns\n",
    "        Platform dependent:\n",
    "            the time of most recent metadata change on Unix,\n",
    "            the time of creation on Windows, expressed in nanoseconds as an integer.\n",
    "</pre>"
   ]
  }
 ],
 "metadata": {
  "kernelspec": {
   "display_name": "Python 3 (ipykernel)",
   "language": "python",
   "name": "python3"
  },
  "language_info": {
   "codemirror_mode": {
    "name": "ipython",
    "version": 3
   },
   "file_extension": ".py",
   "mimetype": "text/x-python",
   "name": "python",
   "nbconvert_exporter": "python",
   "pygments_lexer": "ipython3",
   "version": "3.12.3"
  }
 },
 "nbformat": 4,
 "nbformat_minor": 5
}
